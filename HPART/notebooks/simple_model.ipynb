{
 "cells": [
  {
   "cell_type": "markdown",
   "metadata": {},
   "source": [
    "# Very simple notebook to get to a simple regression model"
   ]
  },
  {
   "cell_type": "code",
   "execution_count": 1,
   "metadata": {
    "collapsed": true
   },
   "outputs": [],
   "source": [
    "# ignore warnings\n",
    "import warnings\n",
    "warnings.filterwarnings('ignore')\n",
    "# get pandas\n",
    "import pandas as pd\n",
    "# we'll do some visual checks, get the necessary packages\n",
    "import matplotlib.pyplot as plt\n",
    "import seaborn as sns\n",
    "%matplotlib inline\n",
    "import numpy as np"
   ]
  },
  {
   "cell_type": "code",
   "execution_count": 2,
   "metadata": {
    "collapsed": true
   },
   "outputs": [],
   "source": [
    "# import the dataset\n",
    "df = pd.read_pickle('../dataframes/df_red.pkl')"
   ]
  },
  {
   "cell_type": "code",
   "execution_count": 3,
   "metadata": {
    "collapsed": false,
    "scrolled": true
   },
   "outputs": [
    {
     "data": {
      "text/html": [
       "<div>\n",
       "<table border=\"1\" class=\"dataframe\">\n",
       "  <thead>\n",
       "    <tr style=\"text-align: right;\">\n",
       "      <th></th>\n",
       "      <th>OverallQual</th>\n",
       "      <th>GarageArea</th>\n",
       "      <th>TotalBsmtSF</th>\n",
       "      <th>1stFlrSF</th>\n",
       "      <th>FullBath</th>\n",
       "      <th>TotRmsAbvGrd</th>\n",
       "      <th>YearBuilt</th>\n",
       "      <th>GarageYrBlt</th>\n",
       "      <th>log_SalePrice</th>\n",
       "      <th>log_GrLivArea</th>\n",
       "      <th>log_KitchenAbvGr</th>\n",
       "      <th>log_EnclosedPorch</th>\n",
       "    </tr>\n",
       "  </thead>\n",
       "  <tbody>\n",
       "    <tr>\n",
       "      <th>count</th>\n",
       "      <td>1458.000000</td>\n",
       "      <td>1458.000000</td>\n",
       "      <td>1458.000000</td>\n",
       "      <td>1458.000000</td>\n",
       "      <td>1458.000000</td>\n",
       "      <td>1458.000000</td>\n",
       "      <td>1458.000000</td>\n",
       "      <td>1458.000000</td>\n",
       "      <td>1458.000000</td>\n",
       "      <td>1458.000000</td>\n",
       "      <td>1458.000000</td>\n",
       "      <td>1458.000000</td>\n",
       "    </tr>\n",
       "    <tr>\n",
       "      <th>mean</th>\n",
       "      <td>6.093964</td>\n",
       "      <td>472.050069</td>\n",
       "      <td>1052.537037</td>\n",
       "      <td>1158.851166</td>\n",
       "      <td>1.563786</td>\n",
       "      <td>6.510974</td>\n",
       "      <td>1971.218107</td>\n",
       "      <td>1976.465021</td>\n",
       "      <td>12.024015</td>\n",
       "      <td>7.266762</td>\n",
       "      <td>0.711699</td>\n",
       "      <td>0.698976</td>\n",
       "    </tr>\n",
       "    <tr>\n",
       "      <th>std</th>\n",
       "      <td>1.376369</td>\n",
       "      <td>212.239248</td>\n",
       "      <td>414.982320</td>\n",
       "      <td>372.039498</td>\n",
       "      <td>0.549891</td>\n",
       "      <td>1.615880</td>\n",
       "      <td>30.193754</td>\n",
       "      <td>26.299692</td>\n",
       "      <td>0.399713</td>\n",
       "      <td>0.330142</td>\n",
       "      <td>0.089326</td>\n",
       "      <td>1.728308</td>\n",
       "    </tr>\n",
       "    <tr>\n",
       "      <th>min</th>\n",
       "      <td>1.000000</td>\n",
       "      <td>0.000000</td>\n",
       "      <td>0.000000</td>\n",
       "      <td>334.000000</td>\n",
       "      <td>0.000000</td>\n",
       "      <td>2.000000</td>\n",
       "      <td>1872.000000</td>\n",
       "      <td>1872.000000</td>\n",
       "      <td>10.460271</td>\n",
       "      <td>5.814131</td>\n",
       "      <td>0.000000</td>\n",
       "      <td>0.000000</td>\n",
       "    </tr>\n",
       "    <tr>\n",
       "      <th>25%</th>\n",
       "      <td>5.000000</td>\n",
       "      <td>331.500000</td>\n",
       "      <td>795.250000</td>\n",
       "      <td>882.000000</td>\n",
       "      <td>1.000000</td>\n",
       "      <td>5.000000</td>\n",
       "      <td>1954.000000</td>\n",
       "      <td>1959.000000</td>\n",
       "      <td>11.774720</td>\n",
       "      <td>7.029530</td>\n",
       "      <td>0.693147</td>\n",
       "      <td>0.000000</td>\n",
       "    </tr>\n",
       "    <tr>\n",
       "      <th>50%</th>\n",
       "      <td>6.000000</td>\n",
       "      <td>479.500000</td>\n",
       "      <td>991.000000</td>\n",
       "      <td>1086.000000</td>\n",
       "      <td>2.000000</td>\n",
       "      <td>6.000000</td>\n",
       "      <td>1972.500000</td>\n",
       "      <td>1978.000000</td>\n",
       "      <td>12.001512</td>\n",
       "      <td>7.287901</td>\n",
       "      <td>0.693147</td>\n",
       "      <td>0.000000</td>\n",
       "    </tr>\n",
       "    <tr>\n",
       "      <th>75%</th>\n",
       "      <td>7.000000</td>\n",
       "      <td>576.000000</td>\n",
       "      <td>1296.750000</td>\n",
       "      <td>1390.750000</td>\n",
       "      <td>2.000000</td>\n",
       "      <td>7.000000</td>\n",
       "      <td>2000.000000</td>\n",
       "      <td>2001.000000</td>\n",
       "      <td>12.273736</td>\n",
       "      <td>7.482682</td>\n",
       "      <td>0.693147</td>\n",
       "      <td>0.000000</td>\n",
       "    </tr>\n",
       "    <tr>\n",
       "      <th>max</th>\n",
       "      <td>10.000000</td>\n",
       "      <td>1390.000000</td>\n",
       "      <td>3206.000000</td>\n",
       "      <td>3228.000000</td>\n",
       "      <td>3.000000</td>\n",
       "      <td>14.000000</td>\n",
       "      <td>2010.000000</td>\n",
       "      <td>2010.000000</td>\n",
       "      <td>13.534474</td>\n",
       "      <td>8.406708</td>\n",
       "      <td>1.386294</td>\n",
       "      <td>6.315358</td>\n",
       "    </tr>\n",
       "  </tbody>\n",
       "</table>\n",
       "</div>"
      ],
      "text/plain": [
       "       OverallQual   GarageArea  TotalBsmtSF     1stFlrSF     FullBath  \\\n",
       "count  1458.000000  1458.000000  1458.000000  1458.000000  1458.000000   \n",
       "mean      6.093964   472.050069  1052.537037  1158.851166     1.563786   \n",
       "std       1.376369   212.239248   414.982320   372.039498     0.549891   \n",
       "min       1.000000     0.000000     0.000000   334.000000     0.000000   \n",
       "25%       5.000000   331.500000   795.250000   882.000000     1.000000   \n",
       "50%       6.000000   479.500000   991.000000  1086.000000     2.000000   \n",
       "75%       7.000000   576.000000  1296.750000  1390.750000     2.000000   \n",
       "max      10.000000  1390.000000  3206.000000  3228.000000     3.000000   \n",
       "\n",
       "       TotRmsAbvGrd    YearBuilt  GarageYrBlt  log_SalePrice  log_GrLivArea  \\\n",
       "count   1458.000000  1458.000000  1458.000000    1458.000000    1458.000000   \n",
       "mean       6.510974  1971.218107  1976.465021      12.024015       7.266762   \n",
       "std        1.615880    30.193754    26.299692       0.399713       0.330142   \n",
       "min        2.000000  1872.000000  1872.000000      10.460271       5.814131   \n",
       "25%        5.000000  1954.000000  1959.000000      11.774720       7.029530   \n",
       "50%        6.000000  1972.500000  1978.000000      12.001512       7.287901   \n",
       "75%        7.000000  2000.000000  2001.000000      12.273736       7.482682   \n",
       "max       14.000000  2010.000000  2010.000000      13.534474       8.406708   \n",
       "\n",
       "       log_KitchenAbvGr  log_EnclosedPorch  \n",
       "count       1458.000000        1458.000000  \n",
       "mean           0.711699           0.698976  \n",
       "std            0.089326           1.728308  \n",
       "min            0.000000           0.000000  \n",
       "25%            0.693147           0.000000  \n",
       "50%            0.693147           0.000000  \n",
       "75%            0.693147           0.000000  \n",
       "max            1.386294           6.315358  "
      ]
     },
     "execution_count": 3,
     "metadata": {},
     "output_type": "execute_result"
    }
   ],
   "source": [
    "# quick check of dataset\n",
    "df.describe()"
   ]
  },
  {
   "cell_type": "code",
   "execution_count": 6,
   "metadata": {
    "collapsed": false
   },
   "outputs": [],
   "source": [
    "# input features\n",
    "x_names = []\n",
    "for col in df.columns:\n",
    "    if 'SalePrice' not in col:\n",
    "        x_names += [col]\n",
    "# output\n",
    "y_name = 'log_SalePrice'"
   ]
  },
  {
   "cell_type": "code",
   "execution_count": 9,
   "metadata": {
    "collapsed": true
   },
   "outputs": [],
   "source": [
    "# prep scikit\n",
    "X = df[x_names].values\n",
    "y = df[y_name].values"
   ]
  },
  {
   "cell_type": "code",
   "execution_count": 11,
   "metadata": {
    "collapsed": true
   },
   "outputs": [],
   "source": [
    "names = x_names"
   ]
  },
  {
   "cell_type": "code",
   "execution_count": 19,
   "metadata": {
    "collapsed": false
   },
   "outputs": [
    {
     "name": "stdout",
     "output_type": "stream",
     "text": [
      "Optimal number of features : 11\n"
     ]
    },
    {
     "data": {
      "image/png": "[encoded data removed]",
      "text/plain": [
       "<matplotlib.figure.Figure at 0x119c51c50>"
      ]
     },
     "metadata": {},
     "output_type": "display_data"
    }
   ],
   "source": [
    "from sklearn.feature_selection import RFECV\n",
    "from sklearn import linear_model\n",
    "\n",
    "# Create the RFE object and compute a cross-validated score.\n",
    "lr = linear_model.LinearRegression()\n",
    "# The \"accuracy\" scoring is proportional to the number of correct\n",
    "# classifications\n",
    "rfecv = RFECV(estimator=lr, step=1, cv=3,\n",
    "              scoring='r2')\n",
    "rfecv.fit(X, y)\n",
    "\n",
    "print(\"Optimal number of features : %d\" % rfecv.n_features_)\n",
    "\n",
    "# Plot number of features VS. cross-validation scores\n",
    "plt.figure()\n",
    "plt.xlabel(\"Number of features selected\")\n",
    "plt.ylabel(\"Cross validation score (nb of correct classifications)\")\n",
    "plt.plot(range(1, len(rfecv.grid_scores_) + 1), rfecv.grid_scores_)\n",
    "plt.show()"
   ]
  },
  {
   "cell_type": "code",
   "execution_count": 20,
   "metadata": {
    "collapsed": false,
    "scrolled": true
   },
   "outputs": [
    {
     "name": "stdout",
     "output_type": "stream",
     "text": [
      "Optimal number of features : 9\n"
     ]
    },
    {
     "data": {
      "image/png": "[encoded data removed]",
      "text/plain": [
       "<matplotlib.figure.Figure at 0x119d9fb38>"
      ]
     },
     "metadata": {},
     "output_type": "display_data"
    }
   ],
   "source": [
    "# same thing for lasso\n",
    "# Create the RFE object and compute a cross-validated score.\n",
    "lr = linear_model.Lasso()\n",
    "# The \"accuracy\" scoring is proportional to the number of correct\n",
    "# classifications\n",
    "rfecv = RFECV(estimator=lr, step=1, cv=3,\n",
    "              scoring='r2')\n",
    "rfecv.fit(X, y)\n",
    "\n",
    "print(\"Optimal number of features : %d\" % rfecv.n_features_)\n",
    "\n",
    "# Plot number of features VS. cross-validation scores\n",
    "plt.figure()\n",
    "plt.xlabel(\"Number of features selected\")\n",
    "plt.ylabel(\"Cross validation score (nb of correct classifications)\")\n",
    "plt.plot(range(1, len(rfecv.grid_scores_) + 1), rfecv.grid_scores_)\n",
    "plt.show()"
   ]
  },
  {
   "cell_type": "code",
   "execution_count": 21,
   "metadata": {
    "collapsed": false
   },
   "outputs": [
    {
     "name": "stdout",
     "output_type": "stream",
     "text": [
      "Optimal number of features : 11\n"
     ]
    },
    {
     "data": {
      "image/png": "[encoded data removed]",
      "text/plain": [
       "<matplotlib.figure.Figure at 0x119d9fc18>"
      ]
     },
     "metadata": {},
     "output_type": "display_data"
    }
   ],
   "source": [
    "# Same thing for ridge\n",
    "# Create the RFE object and compute a cross-validated score.\n",
    "lr = linear_model.Ridge()\n",
    "# The \"accuracy\" scoring is proportional to the number of correct\n",
    "# classifications\n",
    "rfecv = RFECV(estimator=lr, step=1, cv=3,\n",
    "              scoring='r2')\n",
    "rfecv.fit(X, y)\n",
    "\n",
    "print(\"Optimal number of features : %d\" % rfecv.n_features_)\n",
    "\n",
    "# Plot number of features VS. cross-validation scores\n",
    "plt.figure()\n",
    "plt.xlabel(\"Number of features selected\")\n",
    "plt.ylabel(\"Cross validation score (nb of correct classifications)\")\n",
    "plt.plot(range(1, len(rfecv.grid_scores_) + 1), rfecv.grid_scores_)\n",
    "plt.show()"
   ]
  },
  {
   "cell_type": "code",
   "execution_count": 22,
   "metadata": {
    "collapsed": false
   },
   "outputs": [
    {
     "data": {
      "text/plain": [
       "Lasso(alpha=1.0, copy_X=True, fit_intercept=True, max_iter=1000,\n",
       "   normalize=False, positive=False, precompute=False, random_state=None,\n",
       "   selection='cyclic', tol=0.0001, warm_start=False)"
      ]
     },
     "execution_count": 22,
     "metadata": {},
     "output_type": "execute_result"
    }
   ],
   "source": [
    "# looks like there are three features dominating, which are those?\n",
    "lr = linear_model.Lasso()\n",
    "lr.fit(X, y)"
   ]
  },
  {
   "cell_type": "code",
   "execution_count": 28,
   "metadata": {
    "collapsed": false
   },
   "outputs": [
    {
     "name": "stdout",
     "output_type": "stream",
     "text": [
      "OverallQual 0.0\n",
      "GarageArea 0.000647425309608\n",
      "TotalBsmtSF 0.000229457198424\n",
      "1stFlrSF 0.000221025750017\n",
      "FullBath 0.0\n",
      "TotRmsAbvGrd 0.0\n",
      "YearBuilt 0.00247018354153\n",
      "GarageYrBlt 0.0\n",
      "log_GrLivArea 0.0\n",
      "log_KitchenAbvGr -0.0\n",
      "log_EnclosedPorch -0.0\n"
     ]
    }
   ],
   "source": [
    "# check those coefficients\n",
    "for a,b in zip(x_names,lr.coef_):\n",
    "    print (a,b)     "
   ]
  },
  {
   "cell_type": "code",
   "execution_count": 29,
   "metadata": {
    "collapsed": false
   },
   "outputs": [
    {
     "data": {
      "text/plain": [
       "['GarageArea', 'TotalBsmtSF', '1stFlrSF', 'YearBuilt']"
      ]
     },
     "execution_count": 29,
     "metadata": {},
     "output_type": "execute_result"
    }
   ],
   "source": [
    "# done! basically you need \n",
    "# 1) garage dimension\n",
    "# 2) basement dimension\n",
    "# 3) 1st floor dimension\n",
    "# 4) year built\n",
    "red_var = []\n",
    "for name, coeff in zip(x_names,lr.coef_):\n",
    "    if coeff > 0:\n",
    "        red_var += [name]\n",
    "red_var"
   ]
  },
  {
   "cell_type": "code",
   "execution_count": 32,
   "metadata": {
    "collapsed": true
   },
   "outputs": [],
   "source": [
    "# prep the new df\n",
    "# prep scikit\n",
    "X = df[red_var].values\n",
    "y = df[y_name].values\n",
    "names = red_var"
   ]
  },
  {
   "cell_type": "code",
   "execution_count": 33,
   "metadata": {
    "collapsed": false
   },
   "outputs": [
    {
     "data": {
      "text/plain": [
       "ElasticNetCV(alphas=None, copy_X=True, cv=5, eps=0.001, fit_intercept=True,\n",
       "       l1_ratio=0.5, max_iter=1000, n_alphas=100, n_jobs=1,\n",
       "       normalize=False, positive=False, precompute='auto', random_state=0,\n",
       "       selection='cyclic', tol=0.0001, verbose=0)"
      ]
     },
     "execution_count": 33,
     "metadata": {},
     "output_type": "execute_result"
    }
   ],
   "source": [
    "# now now, time to tune ElasticNet (a mix of Ridge and Lasso)\n",
    "from sklearn.linear_model import ElasticNetCV\n",
    "regr = ElasticNetCV(cv=5, random_state=0)\n",
    "regr.fit(X, y)"
   ]
  },
  {
   "cell_type": "code",
   "execution_count": 34,
   "metadata": {
    "collapsed": false
   },
   "outputs": [
    {
     "name": "stdout",
     "output_type": "stream",
     "text": [
      "0.214680062849\n",
      "0.5\n"
     ]
    }
   ],
   "source": [
    "# now I can access the optimized values for alpha and l1_ratio\n",
    "print(regr.alpha_) \n",
    "print(regr.l1_ratio_) "
   ]
  },
  {
   "cell_type": "code",
   "execution_count": 36,
   "metadata": {
    "collapsed": false
   },
   "outputs": [
    {
     "name": "stdout",
     "output_type": "stream",
     "text": [
      "0.64775082178\n"
     ]
    }
   ],
   "source": [
    "# similarly can access the score\n",
    "print(regr.score(X,y)) "
   ]
  },
  {
   "cell_type": "code",
   "execution_count": 38,
   "metadata": {
    "collapsed": false
   },
   "outputs": [
    {
     "data": {
      "text/plain": [
       "ElasticNet(alpha=0.214680062849, copy_X=True, fit_intercept=True,\n",
       "      l1_ratio=0.5, max_iter=1000, normalize=False, positive=False,\n",
       "      precompute=False, random_state=None, selection='cyclic', tol=0.0001,\n",
       "      warm_start=False)"
      ]
     },
     "execution_count": 38,
     "metadata": {},
     "output_type": "execute_result"
    }
   ],
   "source": [
    "# finally can retrain the elastic net on the entire train dataset\n",
    "model = linear_model.ElasticNet(alpha=0.214680062849, l1_ratio=0.5)\n",
    "model.fit(X,y)"
   ]
  },
  {
   "cell_type": "code",
   "execution_count": 39,
   "metadata": {
    "collapsed": false
   },
   "outputs": [
    {
     "name": "stdout",
     "output_type": "stream",
     "text": [
      "0.64775082178\n"
     ]
    }
   ],
   "source": [
    "print(model.score(X,y))"
   ]
  },
  {
   "cell_type": "code",
   "execution_count": 41,
   "metadata": {
    "collapsed": false
   },
   "outputs": [
    {
     "name": "stdout",
     "output_type": "stream",
     "text": [
      "GarageArea 0.000593846647851\n",
      "TotalBsmtSF 0.000192466851842\n",
      "1stFlrSF 0.000246112496913\n",
      "YearBuilt 0.00374614636694\n"
     ]
    }
   ],
   "source": [
    "# check those coefficients\n",
    "for a,b in zip(names,model.coef_):\n",
    "    print (a,b)     "
   ]
  },
  {
   "cell_type": "code",
   "execution_count": 42,
   "metadata": {
    "collapsed": true
   },
   "outputs": [],
   "source": [
    "# done, save the model\n",
    "import pickle\n",
    "pickle.dump(model, open('../models/elastic_net_v1.pkl', 'wb'))"
   ]
  },
  {
   "cell_type": "code",
   "execution_count": 43,
   "metadata": {
    "collapsed": false
   },
   "outputs": [
    {
     "name": "stdout",
     "output_type": "stream",
     "text": [
      "['GarageArea', 'TotalBsmtSF', '1stFlrSF', 'YearBuilt']\n"
     ]
    }
   ],
   "source": [
    "print(names)"
   ]
  },
  {
   "cell_type": "code",
   "execution_count": null,
   "metadata": {
    "collapsed": true
   },
   "outputs": [],
   "source": []
  }
 ],
 "metadata": {
  "anaconda-cloud": {},
  "kernelspec": {
   "display_name": "Python [default]",
   "language": "python",
   "name": "python3"
  },
  "language_info": {
   "codemirror_mode": {
    "name": "ipython",
    "version": 3
   },
   "file_extension": ".py",
   "mimetype": "text/x-python",
   "name": "python",
   "nbconvert_exporter": "python",
   "pygments_lexer": "ipython3",
   "version": "3.5.2"
  }
 },
 "nbformat": 4,
 "nbformat_minor": 1
}
