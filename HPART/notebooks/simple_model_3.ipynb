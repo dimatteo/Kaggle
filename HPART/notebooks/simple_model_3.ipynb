{
 "cells": [
  {
   "cell_type": "markdown",
   "metadata": {},
   "source": [
    "# Simple notebook to get to a boosted tree regression with some CV tuning"
   ]
  },
  {
   "cell_type": "code",
   "execution_count": 1,
   "metadata": {
    "collapsed": true
   },
   "outputs": [],
   "source": [
    "# ignore warnings\n",
    "import warnings\n",
    "warnings.filterwarnings('ignore')\n",
    "# get pandas\n",
    "import pandas as pd\n",
    "# we'll do some visual checks, get the necessary packages\n",
    "import matplotlib.pyplot as plt\n",
    "import seaborn as sns\n",
    "%matplotlib inline\n",
    "import numpy as np"
   ]
  },
  {
   "cell_type": "code",
   "execution_count": 2,
   "metadata": {
    "collapsed": true
   },
   "outputs": [],
   "source": [
    "# get the input df\n",
    "df_raw = pd.read_csv('../data/train.csv')"
   ]
  },
  {
   "cell_type": "code",
   "execution_count": 3,
   "metadata": {
    "collapsed": true
   },
   "outputs": [],
   "source": [
    "# wrapper function to perform some simple cleanup\n",
    "def clean_df(df):\n",
    "    # keep only certain variable types\n",
    "    df = df.select_dtypes(include=['int64','float64'])\n",
    "    # drop everything with more than 10% of missing values\n",
    "    df = df[df.columns[df.isnull().mean() < 0.1]]\n",
    "    # looks like Garage built goes with Year built, replace NA using that\n",
    "    df.loc[df['GarageYrBlt'].isnull(),'GarageYrBlt'] = df['YearBuilt']\n",
    "    # put zero for MasVnrArea\n",
    "    df.loc[df['MasVnrArea'].isnull(),'MasVnrArea'] = 0.0\n",
    "    # drop id\n",
    "    df = df.drop(['Id'], axis=1)    \n",
    "    # remove outliers\n",
    "    df = df[df['GrLivArea'] < 4676] \n",
    "    return df"
   ]
  },
  {
   "cell_type": "code",
   "execution_count": 4,
   "metadata": {
    "collapsed": true
   },
   "outputs": [],
   "source": [
    "df = clean_df(df_raw)"
   ]
  },
  {
   "cell_type": "code",
   "execution_count": 5,
   "metadata": {
    "collapsed": true
   },
   "outputs": [],
   "source": [
    "# now we will look at the variable ranking with a different approach, GBT\n",
    "from sklearn import ensemble\n",
    "# prep scikit\n",
    "input_features = list(df.columns)\n",
    "input_features.remove('SalePrice')\n",
    "X = df[input_features].values\n",
    "y = np.log(df['SalePrice']+1).values"
   ]
  },
  {
   "cell_type": "code",
   "execution_count": 6,
   "metadata": {
    "collapsed": false
   },
   "outputs": [
    {
     "data": {
      "text/plain": [
       "GradientBoostingRegressor(alpha=0.9, criterion='friedman_mse', init=None,\n",
       "             learning_rate=0.01, loss='ls', max_depth=4, max_features=None,\n",
       "             max_leaf_nodes=None, min_impurity_decrease=0.0,\n",
       "             min_impurity_split=None, min_samples_leaf=1,\n",
       "             min_samples_split=2, min_weight_fraction_leaf=0.0,\n",
       "             n_estimators=500, presort='auto', random_state=None,\n",
       "             subsample=1.0, verbose=0, warm_start=False)"
      ]
     },
     "execution_count": 6,
     "metadata": {},
     "output_type": "execute_result"
    }
   ],
   "source": [
    "# Fit regression model\n",
    "params = {'n_estimators': 500, 'max_depth': 4, 'min_samples_split': 2,\n",
    "          'learning_rate': 0.01, 'loss': 'ls'}\n",
    "clf = ensemble.GradientBoostingRegressor(**params)\n",
    "clf.fit(X, y)"
   ]
  },
  {
   "cell_type": "code",
   "execution_count": 7,
   "metadata": {
    "collapsed": false
   },
   "outputs": [
    {
     "name": "stdout",
     "output_type": "stream",
     "text": [
      "Mean Squared Error (on Log): 0.13 (+/- 0.01)\n"
     ]
    }
   ],
   "source": [
    "# to have an idea of the score\n",
    "from sklearn.model_selection import cross_val_score\n",
    "# check model performance\n",
    "scores = cross_val_score(clf, X, y, cv=3, scoring='neg_mean_squared_error')\n",
    "# transform scores into the root mean square\n",
    "scores = np.sqrt(-scores)\n",
    "print(\"Mean Squared Error (on Log): %0.2f (+/- %0.2f)\" % (scores.mean(), scores.std() * 2))"
   ]
  },
  {
   "cell_type": "markdown",
   "metadata": {},
   "source": [
    "## allrighty, we have a baseline for this model"
   ]
  },
  {
   "cell_type": "code",
   "execution_count": 8,
   "metadata": {
    "collapsed": true
   },
   "outputs": [],
   "source": [
    "# now we will perform some simple model tuning\n",
    "from sklearn.model_selection import GridSearchCV"
   ]
  },
  {
   "cell_type": "code",
   "execution_count": 19,
   "metadata": {
    "collapsed": false
   },
   "outputs": [],
   "source": [
    "# create score\n",
    "from sklearn.metrics import mean_squared_error\n",
    "from sklearn.metrics.scorer import make_scorer\n",
    "\n",
    "def my_function(y_true, y_pred):\n",
    "    return np.sqrt(mean_squared_error(y_true, y_pred))\n",
    "\n",
    "custom_scorer = make_scorer(my_function, greater_is_better=False)"
   ]
  },
  {
   "cell_type": "code",
   "execution_count": 38,
   "metadata": {
    "collapsed": false,
    "scrolled": true
   },
   "outputs": [
    {
     "name": "stdout",
     "output_type": "stream",
     "text": [
      "Best parameters set found on development set:\n",
      "\n",
      "{'max_depth': 4, 'criterion': 'friedman_mse', 'min_samples_split': 2, 'n_estimators': 600, 'max_features': 'log2', 'min_samples_leaf': 3, 'loss': 'ls', 'warm_start': False, 'learning_rate': 0.02}\n",
      "\n",
      "Grid scores on development set:\n",
      "\n",
      "-0.125 (+/-0.012) for {'max_depth': 4, 'criterion': 'friedman_mse', 'min_samples_split': 2, 'n_estimators': 600, 'max_features': 'log2', 'min_samples_leaf': 3, 'loss': 'ls', 'warm_start': False, 'learning_rate': 0.02}\n"
     ]
    }
   ],
   "source": [
    "# simple test to check machinery\n",
    "params_grid = {\n",
    "    'n_estimators': [600], \n",
    "    'max_depth': [4], \n",
    "    'min_samples_split': [2],#20\n",
    "    'learning_rate': [0.01*2],#0.01\n",
    "    'loss': ['ls'],\n",
    "    'criterion': ['friedman_mse'],\n",
    "    'min_samples_leaf': [3],\n",
    "    'max_features': ['log2'],#auto,\n",
    "    'warm_start': [False],#true\n",
    "}\n",
    "\n",
    "gs_clf = GridSearchCV(clf, params_grid, \n",
    "                      n_jobs=-1, cv=3,\n",
    "                      scoring=custom_scorer)\n",
    "gs_clf.fit(X, y)\n",
    "\n",
    "print(\"Best parameters set found on development set:\")\n",
    "print()\n",
    "print(gs_clf.best_params_)\n",
    "print()\n",
    "print(\"Grid scores on development set:\")\n",
    "print()\n",
    "means = gs_clf.cv_results_['mean_test_score']\n",
    "stds = gs_clf.cv_results_['std_test_score']\n",
    "for mean, std, params in zip(means, stds, gs_clf.cv_results_['params']):\n",
    "    print(\"%0.3f (+/-%0.03f) for %r\"\n",
    "          % (mean, std * 2, params))"
   ]
  },
  {
   "cell_type": "code",
   "execution_count": 39,
   "metadata": {
    "collapsed": false
   },
   "outputs": [
    {
     "name": "stdout",
     "output_type": "stream",
     "text": [
      "Mean Squared Error (on Log): -0.125 (+/- 0.013)\n"
     ]
    }
   ],
   "source": [
    "# looks good, redo the model\n",
    "params = {'max_depth': 4, 'criterion': 'friedman_mse', 'min_samples_split': 2, 'n_estimators': 600, 'max_features': 'log2', 'min_samples_leaf': 3, 'loss': 'ls', 'warm_start': False, 'learning_rate': 0.02}\n",
    "clf = ensemble.GradientBoostingRegressor(**params)\n",
    "clf.fit(X, y)\n",
    "scores = cross_val_score(clf, X, y, cv=3, scoring=custom_scorer)\n",
    "print(\"Mean Squared Error (on Log): %0.3f (+/- %0.3f)\" % (scores.mean(), scores.std() * 2))"
   ]
  },
  {
   "cell_type": "code",
   "execution_count": 40,
   "metadata": {
    "collapsed": true
   },
   "outputs": [],
   "source": [
    "# looks good save the model\n",
    "import pickle\n",
    "pickle.dump(clf, open('../models/gbt_reg_v2.pkl', 'wb'))"
   ]
  }
 ],
 "metadata": {
  "kernelspec": {
   "display_name": "Python [default]",
   "language": "python",
   "name": "python3"
  },
  "language_info": {
   "codemirror_mode": {
    "name": "ipython",
    "version": 3
   },
   "file_extension": ".py",
   "mimetype": "text/x-python",
   "name": "python",
   "nbconvert_exporter": "python",
   "pygments_lexer": "ipython3",
   "version": "3.5.2"
  }
 },
 "nbformat": 4,
 "nbformat_minor": 1
}
